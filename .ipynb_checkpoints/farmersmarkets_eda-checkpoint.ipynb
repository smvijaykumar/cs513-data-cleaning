{
 "cells": [
  {
   "cell_type": "code",
   "execution_count": 1,
   "metadata": {},
   "outputs": [],
   "source": [
    "import pandas as pd\n",
    "import numpy as np\n",
    "import matplotlib.pyplot as plt\n",
    "import seaborn as sns\n",
    "from IPython.display import Image"
   ]
  },
  {
   "cell_type": "code",
   "execution_count": 2,
   "metadata": {},
   "outputs": [
    {
     "name": "stderr",
     "output_type": "stream",
     "text": [
      "/Users/alexkokkoros/opt/anaconda3/lib/python3.7/site-packages/IPython/core/interactiveshell.py:3063: DtypeWarning: Columns (38,43,44,45,46,47,53) have mixed types.Specify dtype option on import or set low_memory=False.\n",
      "  interactivity=interactivity, compiler=compiler, result=result)\n"
     ]
    }
   ],
   "source": [
    "# Using pandas package to read CSV and store the values into a data frame\n",
    "farmersmkt_data = pd.read_csv('farmersmarkets_imputed.csv')"
   ]
  },
  {
   "cell_type": "code",
   "execution_count": 3,
   "metadata": {},
   "outputs": [
    {
     "data": {
      "text/html": [
       "<div>\n",
       "<style scoped>\n",
       "    .dataframe tbody tr th:only-of-type {\n",
       "        vertical-align: middle;\n",
       "    }\n",
       "\n",
       "    .dataframe tbody tr th {\n",
       "        vertical-align: top;\n",
       "    }\n",
       "\n",
       "    .dataframe thead th {\n",
       "        text-align: right;\n",
       "    }\n",
       "</style>\n",
       "<table border=\"1\" class=\"dataframe\">\n",
       "  <thead>\n",
       "    <tr style=\"text-align: right;\">\n",
       "      <th></th>\n",
       "      <th>FMID</th>\n",
       "      <th>MarketName</th>\n",
       "      <th>Website</th>\n",
       "      <th>Website_1</th>\n",
       "      <th>Facebook</th>\n",
       "      <th>Facebook_1</th>\n",
       "      <th>Twitter</th>\n",
       "      <th>Twitter_1</th>\n",
       "      <th>Youtube</th>\n",
       "      <th>Youtube_1</th>\n",
       "      <th>...</th>\n",
       "      <th>Season4Date_ismissing</th>\n",
       "      <th>Season4Date 1_ismissing</th>\n",
       "      <th>Season4Date 2_ismissing</th>\n",
       "      <th>Season4Time_ismissing</th>\n",
       "      <th>Season4Time 1_ismissing</th>\n",
       "      <th>Season4Time 2_ismissing</th>\n",
       "      <th>Longitude_ismissing</th>\n",
       "      <th>Latitude_ismissing</th>\n",
       "      <th>Location_ismissing</th>\n",
       "      <th>num_missing</th>\n",
       "    </tr>\n",
       "  </thead>\n",
       "  <tbody>\n",
       "    <tr>\n",
       "      <th>0</th>\n",
       "      <td>1012063</td>\n",
       "      <td>Caledonia Farmers Market Association - Danville</td>\n",
       "      <td>https://sites.google.com/site/caledoniafarmers...</td>\n",
       "      <td>https://sites.google.com/site/caledoniafarmers...</td>\n",
       "      <td>https://www.facebook.com/Danville.VT.Farmers.M...</td>\n",
       "      <td>https://www.facebook.com/Danville.VT.Farmers.M...</td>\n",
       "      <td>NaN</td>\n",
       "      <td>NaN</td>\n",
       "      <td>NaN</td>\n",
       "      <td>NaN</td>\n",
       "      <td>...</td>\n",
       "      <td>True</td>\n",
       "      <td>True</td>\n",
       "      <td>True</td>\n",
       "      <td>True</td>\n",
       "      <td>True</td>\n",
       "      <td>True</td>\n",
       "      <td>False</td>\n",
       "      <td>False</td>\n",
       "      <td>True</td>\n",
       "      <td>40</td>\n",
       "    </tr>\n",
       "    <tr>\n",
       "      <th>1</th>\n",
       "      <td>1011871</td>\n",
       "      <td>Stearns Homestead Farmers Market</td>\n",
       "      <td>http://Stearnshomestead.com</td>\n",
       "      <td>http://Stearnshomestead.com</td>\n",
       "      <td>NaN</td>\n",
       "      <td>NaN</td>\n",
       "      <td>NaN</td>\n",
       "      <td>NaN</td>\n",
       "      <td>NaN</td>\n",
       "      <td>NaN</td>\n",
       "      <td>...</td>\n",
       "      <td>True</td>\n",
       "      <td>True</td>\n",
       "      <td>True</td>\n",
       "      <td>True</td>\n",
       "      <td>True</td>\n",
       "      <td>True</td>\n",
       "      <td>False</td>\n",
       "      <td>False</td>\n",
       "      <td>True</td>\n",
       "      <td>41</td>\n",
       "    </tr>\n",
       "    <tr>\n",
       "      <th>2</th>\n",
       "      <td>1011878</td>\n",
       "      <td>100 Mile Market</td>\n",
       "      <td>http://www.pfcmarkets.com</td>\n",
       "      <td>http://www.pfcmarkets.com</td>\n",
       "      <td>https://www.facebook.com/100MileMarket/?fref=ts</td>\n",
       "      <td>https://www.facebook.com/100MileMarket/?fref=ts</td>\n",
       "      <td>NaN</td>\n",
       "      <td>NaN</td>\n",
       "      <td>NaN</td>\n",
       "      <td>NaN</td>\n",
       "      <td>...</td>\n",
       "      <td>True</td>\n",
       "      <td>True</td>\n",
       "      <td>True</td>\n",
       "      <td>True</td>\n",
       "      <td>True</td>\n",
       "      <td>True</td>\n",
       "      <td>False</td>\n",
       "      <td>False</td>\n",
       "      <td>True</td>\n",
       "      <td>37</td>\n",
       "    </tr>\n",
       "  </tbody>\n",
       "</table>\n",
       "<p>3 rows × 149 columns</p>\n",
       "</div>"
      ],
      "text/plain": [
       "      FMID                                       MarketName  \\\n",
       "0  1012063  Caledonia Farmers Market Association - Danville   \n",
       "1  1011871                 Stearns Homestead Farmers Market   \n",
       "2  1011878                                  100 Mile Market   \n",
       "\n",
       "                                             Website  \\\n",
       "0  https://sites.google.com/site/caledoniafarmers...   \n",
       "1                        http://Stearnshomestead.com   \n",
       "2                          http://www.pfcmarkets.com   \n",
       "\n",
       "                                           Website_1  \\\n",
       "0  https://sites.google.com/site/caledoniafarmers...   \n",
       "1                        http://Stearnshomestead.com   \n",
       "2                          http://www.pfcmarkets.com   \n",
       "\n",
       "                                            Facebook  \\\n",
       "0  https://www.facebook.com/Danville.VT.Farmers.M...   \n",
       "1                                                NaN   \n",
       "2    https://www.facebook.com/100MileMarket/?fref=ts   \n",
       "\n",
       "                                          Facebook_1 Twitter Twitter_1  \\\n",
       "0  https://www.facebook.com/Danville.VT.Farmers.M...     NaN       NaN   \n",
       "1                                                NaN     NaN       NaN   \n",
       "2    https://www.facebook.com/100MileMarket/?fref=ts     NaN       NaN   \n",
       "\n",
       "  Youtube Youtube_1  ... Season4Date_ismissing Season4Date 1_ismissing  \\\n",
       "0     NaN       NaN  ...                  True                    True   \n",
       "1     NaN       NaN  ...                  True                    True   \n",
       "2     NaN       NaN  ...                  True                    True   \n",
       "\n",
       "  Season4Date 2_ismissing Season4Time_ismissing Season4Time 1_ismissing  \\\n",
       "0                    True                  True                    True   \n",
       "1                    True                  True                    True   \n",
       "2                    True                  True                    True   \n",
       "\n",
       "  Season4Time 2_ismissing Longitude_ismissing Latitude_ismissing  \\\n",
       "0                    True               False              False   \n",
       "1                    True               False              False   \n",
       "2                    True               False              False   \n",
       "\n",
       "  Location_ismissing num_missing  \n",
       "0               True          40  \n",
       "1               True          41  \n",
       "2               True          37  \n",
       "\n",
       "[3 rows x 149 columns]"
      ]
     },
     "execution_count": 3,
     "metadata": {},
     "output_type": "execute_result"
    }
   ],
   "source": [
    "farmersmkt_data.head(3)"
   ]
  },
  {
   "cell_type": "code",
   "execution_count": 4,
   "metadata": {},
   "outputs": [
    {
     "data": {
      "text/plain": [
       "FMID                        int64\n",
       "MarketName                 object\n",
       "Website                    object\n",
       "Website_1                  object\n",
       "Facebook                   object\n",
       "                            ...  \n",
       "Season4Time 2_ismissing      bool\n",
       "Longitude_ismissing          bool\n",
       "Latitude_ismissing           bool\n",
       "Location_ismissing           bool\n",
       "num_missing                 int64\n",
       "Length: 149, dtype: object"
      ]
     },
     "execution_count": 4,
     "metadata": {},
     "output_type": "execute_result"
    }
   ],
   "source": [
    "farmersmkt_data.dtypes"
   ]
  },
  {
   "cell_type": "code",
   "execution_count": 5,
   "metadata": {},
   "outputs": [
    {
     "name": "stdout",
     "output_type": "stream",
     "text": [
      "<class 'pandas.core.frame.DataFrame'>\n",
      "RangeIndex: 8675 entries, 0 to 8674\n",
      "Columns: 149 entries, FMID to num_missing\n",
      "dtypes: bool(54), float64(2), int64(2), object(91)\n",
      "memory usage: 6.7+ MB\n"
     ]
    }
   ],
   "source": [
    "# Print the summary of a DataFrame, including column names, the number of non-null values, and data type.\n",
    "farmersmkt_data.info()"
   ]
  },
  {
   "cell_type": "code",
   "execution_count": 6,
   "metadata": {},
   "outputs": [
    {
     "data": {
      "text/html": [
       "<div>\n",
       "<style scoped>\n",
       "    .dataframe tbody tr th:only-of-type {\n",
       "        vertical-align: middle;\n",
       "    }\n",
       "\n",
       "    .dataframe tbody tr th {\n",
       "        vertical-align: top;\n",
       "    }\n",
       "\n",
       "    .dataframe thead th {\n",
       "        text-align: right;\n",
       "    }\n",
       "</style>\n",
       "<table border=\"1\" class=\"dataframe\">\n",
       "  <thead>\n",
       "    <tr style=\"text-align: right;\">\n",
       "      <th></th>\n",
       "      <th>FMID</th>\n",
       "      <th>Longitude</th>\n",
       "      <th>Latitude</th>\n",
       "      <th>num_missing</th>\n",
       "    </tr>\n",
       "  </thead>\n",
       "  <tbody>\n",
       "    <tr>\n",
       "      <th>count</th>\n",
       "      <td>8.675000e+03</td>\n",
       "      <td>8646.000000</td>\n",
       "      <td>8646.000000</td>\n",
       "      <td>8675.000000</td>\n",
       "    </tr>\n",
       "    <tr>\n",
       "      <th>mean</th>\n",
       "      <td>1.009420e+06</td>\n",
       "      <td>-90.955082</td>\n",
       "      <td>39.167766</td>\n",
       "      <td>41.833545</td>\n",
       "    </tr>\n",
       "    <tr>\n",
       "      <th>std</th>\n",
       "      <td>5.548042e+04</td>\n",
       "      <td>17.488990</td>\n",
       "      <td>5.288960</td>\n",
       "      <td>4.804809</td>\n",
       "    </tr>\n",
       "    <tr>\n",
       "      <th>min</th>\n",
       "      <td>1.000001e+06</td>\n",
       "      <td>-166.540000</td>\n",
       "      <td>17.709900</td>\n",
       "      <td>17.000000</td>\n",
       "    </tr>\n",
       "    <tr>\n",
       "      <th>25%</th>\n",
       "      <td>1.003090e+06</td>\n",
       "      <td>-97.278250</td>\n",
       "      <td>36.296148</td>\n",
       "      <td>39.000000</td>\n",
       "    </tr>\n",
       "    <tr>\n",
       "      <th>50%</th>\n",
       "      <td>1.006213e+06</td>\n",
       "      <td>-86.208287</td>\n",
       "      <td>40.051682</td>\n",
       "      <td>41.000000</td>\n",
       "    </tr>\n",
       "    <tr>\n",
       "      <th>75%</th>\n",
       "      <td>1.009568e+06</td>\n",
       "      <td>-77.522151</td>\n",
       "      <td>42.447858</td>\n",
       "      <td>47.000000</td>\n",
       "    </tr>\n",
       "    <tr>\n",
       "      <th>max</th>\n",
       "      <td>2.000036e+06</td>\n",
       "      <td>-64.704300</td>\n",
       "      <td>64.862750</td>\n",
       "      <td>51.000000</td>\n",
       "    </tr>\n",
       "  </tbody>\n",
       "</table>\n",
       "</div>"
      ],
      "text/plain": [
       "               FMID    Longitude     Latitude  num_missing\n",
       "count  8.675000e+03  8646.000000  8646.000000  8675.000000\n",
       "mean   1.009420e+06   -90.955082    39.167766    41.833545\n",
       "std    5.548042e+04    17.488990     5.288960     4.804809\n",
       "min    1.000001e+06  -166.540000    17.709900    17.000000\n",
       "25%    1.003090e+06   -97.278250    36.296148    39.000000\n",
       "50%    1.006213e+06   -86.208287    40.051682    41.000000\n",
       "75%    1.009568e+06   -77.522151    42.447858    47.000000\n",
       "max    2.000036e+06   -64.704300    64.862750    51.000000"
      ]
     },
     "execution_count": 6,
     "metadata": {},
     "output_type": "execute_result"
    }
   ],
   "source": [
    "# Generate descriptive statistics. \n",
    "# Descriptive statistics include those that summarize the central tendency, \n",
    "# dispersion, and shape of a dataset's distribution, \n",
    "# and excluding NaN values.\n",
    "farmersmkt_data.describe()"
   ]
  },
  {
   "cell_type": "code",
   "execution_count": 7,
   "metadata": {},
   "outputs": [
    {
     "data": {
      "text/plain": [
       "FMID                       8675\n",
       "MarketName                 7866\n",
       "Website                    4270\n",
       "Website_1                  4169\n",
       "Facebook                   3252\n",
       "                           ... \n",
       "Season4Time 2_ismissing       2\n",
       "Longitude_ismissing           2\n",
       "Latitude_ismissing            2\n",
       "Location_ismissing            2\n",
       "num_missing                  32\n",
       "Length: 149, dtype: int64"
      ]
     },
     "execution_count": 7,
     "metadata": {},
     "output_type": "execute_result"
    }
   ],
   "source": [
    "farmersmkt_data.nunique()"
   ]
  },
  {
   "cell_type": "code",
   "execution_count": 8,
   "metadata": {},
   "outputs": [
    {
     "data": {
      "text/plain": [
       "(8675, 149)"
      ]
     },
     "execution_count": 8,
     "metadata": {},
     "output_type": "execute_result"
    }
   ],
   "source": [
    "farmersmkt_data.shape"
   ]
  },
  {
   "cell_type": "code",
   "execution_count": 9,
   "metadata": {},
   "outputs": [
    {
     "data": {
      "image/png": "[encoded data removed]",
      "text/plain": [
       "<Figure size 864x432 with 1 Axes>"
      ]
     },
     "metadata": {
      "needs_background": "light"
     },
     "output_type": "display_data"
    }
   ],
   "source": [
    "city_count  = farmersmkt_data['city'].value_counts()\n",
    "city_count = city_count[:10,]\n",
    "plt.figure(figsize=(12,6))\n",
    "sns.barplot(city_count.index, city_count.values, alpha=0.8)\n",
    "plt.title('Top cities with more market vendors')\n",
    "plt.ylabel('Number of Farmer Market Vendors', fontsize=12)\n",
    "plt.xlabel('city', fontsize=12)\n",
    "plt.show()"
   ]
  },
  {
   "cell_type": "code",
   "execution_count": 10,
   "metadata": {},
   "outputs": [
    {
     "data": {
      "text/plain": [
       "10"
      ]
     },
     "execution_count": 10,
     "metadata": {},
     "output_type": "execute_result"
    }
   ],
   "source": [
    "df = farmersmkt_data[['Longitude','Latitude','city']]\n",
    "df.head(5)\n",
    "city_count.count()"
   ]
  },
  {
   "cell_type": "code",
   "execution_count": 11,
   "metadata": {},
   "outputs": [
    {
     "ename": "ModuleNotFoundError",
     "evalue": "No module named 'plotly'",
     "output_type": "error",
     "traceback": [
      "\u001b[0;31m---------------------------------------------------------------------------\u001b[0m",
      "\u001b[0;31mModuleNotFoundError\u001b[0m                       Traceback (most recent call last)",
      "\u001b[0;32m<ipython-input-11-7885412039f1>\u001b[0m in \u001b[0;36m<module>\u001b[0;34m\u001b[0m\n\u001b[0;32m----> 1\u001b[0;31m \u001b[0;32mimport\u001b[0m \u001b[0mplotly\u001b[0m\u001b[0;34m.\u001b[0m\u001b[0mexpress\u001b[0m \u001b[0;32mas\u001b[0m \u001b[0mpx\u001b[0m\u001b[0;34m\u001b[0m\u001b[0;34m\u001b[0m\u001b[0m\n\u001b[0m\u001b[1;32m      2\u001b[0m \u001b[0;32mimport\u001b[0m \u001b[0mplotly\u001b[0m\u001b[0;34m.\u001b[0m\u001b[0mgraph_objects\u001b[0m \u001b[0;32mas\u001b[0m \u001b[0mgo\u001b[0m\u001b[0;34m\u001b[0m\u001b[0;34m\u001b[0m\u001b[0m\n\u001b[1;32m      3\u001b[0m \u001b[0;32mimport\u001b[0m \u001b[0mpandas\u001b[0m \u001b[0;32mas\u001b[0m \u001b[0mpd\u001b[0m\u001b[0;34m\u001b[0m\u001b[0;34m\u001b[0m\u001b[0m\n\u001b[1;32m      4\u001b[0m fig = go.Figure(data=go.Scattergeo(\n\u001b[1;32m      5\u001b[0m         \u001b[0mlon\u001b[0m \u001b[0;34m=\u001b[0m \u001b[0mdf\u001b[0m\u001b[0;34m[\u001b[0m\u001b[0;34m'Longitude'\u001b[0m\u001b[0;34m]\u001b[0m\u001b[0;34m,\u001b[0m\u001b[0;34m\u001b[0m\u001b[0;34m\u001b[0m\u001b[0m\n",
      "\u001b[0;31mModuleNotFoundError\u001b[0m: No module named 'plotly'"
     ]
    }
   ],
   "source": [
    "import plotly.express as px\n",
    "import plotly.graph_objects as go\n",
    "import pandas as pd\n",
    "fig = go.Figure(data=go.Scattergeo(\n",
    "        lon = df['Longitude'],\n",
    "        lat = df['Latitude'],\n",
    "        text = df['city'],\n",
    "        mode = 'markers',\n",
    "        marker_color = city_count,\n",
    "        ))\n",
    "\n",
    "fig.update_layout(\n",
    "        title = 'Farmer Markets concentration on US Cities',\n",
    "        geo_scope='usa',\n",
    "    )\n",
    "fig.show()"
   ]
  },
  {
   "cell_type": "code",
   "execution_count": null,
   "metadata": {},
   "outputs": [],
   "source": [
    "fig = go.Figure(data=go.Scattergeo(\n",
    "        locationmode = 'USA-states',\n",
    "        lon = df['Longitude'],\n",
    "        lat = df['Latitude'],\n",
    "        text = df['city'],\n",
    "        mode = 'markers',\n",
    "        marker = dict(\n",
    "            size = 8,\n",
    "            opacity = 0.9,\n",
    "            reversescale = True,\n",
    "            autocolorscale = False,\n",
    "            symbol = 'square',\n",
    "            line = dict(\n",
    "                width=1,\n",
    "                color='rgba(102, 102, 102)'\n",
    "            ),\n",
    "            colorscale = 'Blues',\n",
    "            cmin = 5,\n",
    "            color = city_count,\n",
    "            cmax = city_count.max(),\n",
    "            colorbar_title=\"Farmer Markets concentration on US Cities\"\n",
    "        )))\n",
    "\n",
    "fig.update_layout(\n",
    "        title = 'Most trafficked US airports<br>(Hover for City names)',\n",
    "        geo = dict(\n",
    "            scope='usa',\n",
    "            projection_type='albers usa',\n",
    "            showland = True,\n",
    "            landcolor = \"rgb(250, 250, 250)\",\n",
    "            subunitcolor = \"rgb(217, 217, 217)\",\n",
    "            countrycolor = \"rgb(217, 217, 217)\",\n",
    "            countrywidth = 0.5,\n",
    "            subunitwidth = 0.5\n",
    "        ),\n",
    "    )\n",
    "fig.show()"
   ]
  },
  {
   "cell_type": "code",
   "execution_count": null,
   "metadata": {},
   "outputs": [],
   "source": [
    "df_drop_columns = farmersmkt_data.dropna(axis='columns', how='all') \n",
    "# how='all': if all values are NA, drop that columns.\n",
    "df_drop_columns.head()"
   ]
  },
  {
   "cell_type": "code",
   "execution_count": null,
   "metadata": {},
   "outputs": [],
   "source": [
    "df_drop_columns['zip']"
   ]
  },
  {
   "cell_type": "code",
   "execution_count": null,
   "metadata": {},
   "outputs": [],
   "source": [
    "df_drop_columns['updateTime']"
   ]
  },
  {
   "cell_type": "code",
   "execution_count": null,
   "metadata": {},
   "outputs": [],
   "source": [
    "corr = farmersmkt_data.corr()\n",
    "ax = sns.heatmap(\n",
    "    corr, \n",
    "    vmin=-1, vmax=1, center=0,\n",
    "    cmap=sns.diverging_palette(200, 420, n=200),\n",
    "    square=True\n",
    ")\n",
    "ax.set_xticklabels(\n",
    "    ax.get_xticklabels(),\n",
    "    rotation=45,\n",
    "    horizontalalignment='right'\n",
    ");"
   ]
  },
  {
   "cell_type": "code",
   "execution_count": null,
   "metadata": {},
   "outputs": [],
   "source": []
  }
 ],
 "metadata": {
  "kernelspec": {
   "display_name": "Python 3",
   "language": "python",
   "name": "python3"
  },
  "language_info": {
   "codemirror_mode": {
    "name": "ipython",
    "version": 3
   },
   "file_extension": ".py",
   "mimetype": "text/x-python",
   "name": "python",
   "nbconvert_exporter": "python",
   "pygments_lexer": "ipython3",
   "version": "3.7.6"
  }
 },
 "nbformat": 4,
 "nbformat_minor": 5
}
